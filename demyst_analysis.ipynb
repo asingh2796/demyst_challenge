{
 "cells": [
  {
   "cell_type": "code",
   "execution_count": 4,
   "metadata": {},
   "outputs": [],
   "source": [
    "from demyst.analytics import Analytics\n",
    "import pandas as pd\n",
    "analytics = Analytics(key=\"39efd730ccd6d4fa9c2a69b3f82086d6\")"
   ]
  },
  {
   "cell_type": "code",
   "execution_count": 24,
   "metadata": {},
   "outputs": [],
   "source": [
    "input_df = pd.read_csv(\"final_input_file.csv\")"
   ]
  },
  {
   "cell_type": "code",
   "execution_count": 25,
   "metadata": {},
   "outputs": [
    {
     "data": {
      "text/html": [
       "<table><tr><th>Column</th><th>Status</th><th>Description</th></tr><tr><th><a href=\"https://demyst.com/docs/demyst-live-demyst-types/#street\" target=\"_blank\">street</a></th><td style=\"background-color: lightgreen\"><nobr>All Valid</nobr></td><td style=\"text-align: left\">All values in this column are good to go.</td></tr><tr><th><a href=\"https://demyst.com/docs/demyst-live-demyst-types/#state\" target=\"_blank\">state</a></th><td style=\"background-color: lightgreen\"><nobr>All Valid</nobr></td><td style=\"text-align: left\">All values in this column are good to go.</td></tr><tr><th><a href=\"https://demyst.com/docs/demyst-live-demyst-types/#city\" target=\"_blank\">city</a></th><td style=\"background-color: lightgreen\"><nobr>All Valid</nobr></td><td style=\"text-align: left\">All values in this column are good to go.</td></tr><tr><th>post_code</th><td style=\"background-color: lightpink\"><nobr>Not a String Column</nobr></td><td style=\"text-align: left\">You must convert this column to string type.</td></tr><tr><th>safety_flag</th><td style=\"background-color: lightpink\"><nobr>Unrecognized Column Name</nobr></td><td style=\"text-align: left\">This column name is not supported. <a href=\"https://demyst.com/docs/demyst-live-demyst-types/\" target=\"_blank\">Click here for a list of all supported column names.</a></td></tr><tr><th>post_code_extension</th><td style=\"background-color: lightgreen\"><nobr>All Valid</nobr></td><td style=\"text-align: left\">All values in this column are good to go.</td></tr><tr><th><a href=\"https://demyst.com/docs/demyst-live-demyst-types/#country\" target=\"_blank\">country</a></th><td style=\"background-color: lightgreen\"><nobr>All Valid</nobr></td><td style=\"text-align: left\">All values in this column are good to go.</td></tr></table>"
      ],
      "text/plain": [
       "<demyst.analytics.analytics.Validation at 0x2023ad22388>"
      ]
     },
     "execution_count": 25,
     "metadata": {},
     "output_type": "execute_result"
    }
   ],
   "source": [
    "analytics.validate(input_df)"
   ]
  },
  {
   "cell_type": "code",
   "execution_count": 26,
   "metadata": {},
   "outputs": [
    {
     "data": {
      "text/html": [
       "<div style=\"\"><div style=\"pading:10px;\"><div style=\"padding:5px\"><h1><img height=\"30\" width=\"30\" src=\"https://demyst-public.s3.amazonaws.com/icons/aegean_data_source/496/icon/L2_Logo.png\" style=\"display:inline-block\" /> L2</h1><pre style=\"\">hosted_l2_political</pre><p><em>L2's national voter file is the standard by which voter data are judged. For nearly 50 years L2 has provided the highest quality, most up-to-date and robust file of U.S. voters in existence. L2's commitment to quality is displayed in our 53 point hygiene check prior to release.  Presidential Campaigns, national advocacy organizations, and tens of thousands of political groups and down-ballot campaigns rely on L2's quality and enhancements for their voter contact, polling, and analytics.  Hundreds of fields of consumer, donor, demographic, and modeled issue data provide additional layers of depth to L2's best-in-class national voter database.</em></p></div><div style=\"padding: 5px;\"><table><tr><th> </th><th>post_code</th><th>post_code_extension</th><th>country</th></tr><tr><td>Option 1</td><td><span style=\"font-size: 20px;\">☒</span></td><td><span style=\"font-size: 20px;\">☒</span></td><td><span style=\"font-size: 20px;\">☒</span></td></tr></table></div></div></div><div style=\"\"><div style=\"pading:10px;\"><div style=\"padding:5px\"><h1><img height=\"30\" width=\"30\" src=\"https://demyst-public.s3.amazonaws.com/icons/aegean_data_source/496/icon/L2_Logo.png\" style=\"display:inline-block\" /> L2</h1><pre style=\"\">hosted_l2_commercial</pre><p><em>The 245 million record L2 National Consumer file is quickly becoming an industry-standard utilized by the biggest players in the world of analytics and modeling, research, direct consumer contact, and even identity resolution.  Over 450 fields of known household and individual demographic, purchase, hobby and interest data are paired with modeled behavioral information to create this robust file. For nearly 50 years L2's brand has been synonymous with the national voter file. This consumer database utilizes L2's complex voter file processing and hygiene techniques to produce a best-in-class consumer database.</em></p></div><div style=\"padding: 5px;\"><table><tr><th> </th><th>post_code</th><th>post_code_extension</th><th>country</th></tr><tr><td>Option 1</td><td><span style=\"font-size: 20px;\">☒</span></td><td><span style=\"font-size: 20px;\">☒</span></td><td><span style=\"font-size: 20px;\">☒</span></td></tr></table></div></div></div><div style=\"\"><div style=\"pading:10px;\"><div style=\"padding:5px\"><h1><img height=\"30\" width=\"30\" src=\"https://console.demystdata.com/assets/attom-018667395fd6d2e395ec7079d09434844d7ef98d02dac7c32e8bcb6c326145f1.svg\" style=\"display:inline-block\" /> Attom</h1><pre style=\"\">attomdata_attom_id</pre><p><em>Retrieve Attom's internal reference ID for a property in order to search public property records including real estate data: sale, ownership, tax, and more - for more than 150 million U.S. properties.</em></p></div><div style=\"padding: 5px;\"><table><tr><th> </th><th>city</th><th>post_code</th><th>street</th><th>state</th><th>country</th></tr><tr><td>Option 1</td><td><span style=\"font-size: 20px;\">☒</span></td><td><span style=\"font-size: 20px;\">☒</span></td><td><span style=\"font-size: 20px;\">☒</span></td><td><span style=\"font-size: 20px;\">☒</span></td><td><span style=\"font-size: 20px;\">☒</span></td></tr></table></div></div></div>"
      ],
      "text/plain": [
       "<IPython.core.display.HTML object>"
      ]
     },
     "execution_count": 26,
     "metadata": {},
     "output_type": "execute_result"
    }
   ],
   "source": [
    "analytics.search(input_df, strict=True)"
   ]
  },
  {
   "cell_type": "code",
   "execution_count": 28,
   "metadata": {},
   "outputs": [
    {
     "name": "stdout",
     "output_type": "stream",
     "text": [
      "Verifying providers...\n",
      "Starting enrichment...\n"
     ]
    },
    {
     "name": "stderr",
     "output_type": "stream",
     "text": [
      "This enrichment will use 111.88 credits of the 25724 credits your organization currently has.\n"
     ]
    },
    {
     "name": "stdout",
     "output_type": "stream",
     "text": [
      "Enrich Job ID: 24311\n"
     ]
    },
    {
     "data": {
      "application/vnd.jupyter.widget-view+json": {
       "model_id": "013a50d2defb4afe95e809f14dff3c74",
       "version_major": 2,
       "version_minor": 0
      },
      "text/plain": [
       "IntProgress(value=1, max=2)"
      ]
     },
     "metadata": {},
     "output_type": "display_data"
    },
    {
     "data": {
      "application/vnd.jupyter.widget-view+json": {
       "model_id": "85fc16b1565b4480aa48e148481959e6",
       "version_major": 2,
       "version_minor": 0
      },
      "text/plain": [
       "HTML(value='Checking status...')"
      ]
     },
     "metadata": {},
     "output_type": "display_data"
    }
   ],
   "source": [
    "result = analytics.enrich_and_download(['attomdata_attom_id'], input_df)"
   ]
  },
  {
   "cell_type": "code",
   "execution_count": 42,
   "metadata": {},
   "outputs": [],
   "source": [
    "result.to_csv('enriched_data.csv')"
   ]
  },
  {
   "cell_type": "code",
   "execution_count": 33,
   "metadata": {},
   "outputs": [],
   "source": [
    "result.to_json('enriched_data.json')"
   ]
  },
  {
   "cell_type": "code",
   "execution_count": 36,
   "metadata": {},
   "outputs": [],
   "source": [
    "result.to_parquet('enriched_data.gzip', compression='gzip')"
   ]
  },
  {
   "cell_type": "markdown",
   "metadata": {},
   "source": [
    "USED ONLY ONE SOUCE SO MAKING ZIP OF SINGLE CSV"
   ]
  },
  {
   "cell_type": "code",
   "execution_count": 38,
   "metadata": {},
   "outputs": [],
   "source": [
    "from zipfile import ZipFile"
   ]
  },
  {
   "cell_type": "code",
   "execution_count": 39,
   "metadata": {},
   "outputs": [],
   "source": [
    "zipobj =  ZipFile('enriched_data.zip', 'w')"
   ]
  },
  {
   "cell_type": "code",
   "execution_count": 40,
   "metadata": {},
   "outputs": [],
   "source": [
    "zipobj.write('enriched_data.csv')"
   ]
  },
  {
   "cell_type": "code",
   "execution_count": 41,
   "metadata": {},
   "outputs": [],
   "source": [
    "zipobj.close()"
   ]
  },
  {
   "cell_type": "code",
   "execution_count": null,
   "metadata": {},
   "outputs": [],
   "source": []
  }
 ],
 "metadata": {
  "kernelspec": {
   "display_name": "Python 3",
   "language": "python",
   "name": "python3"
  },
  "language_info": {
   "codemirror_mode": {
    "name": "ipython",
    "version": 3
   },
   "file_extension": ".py",
   "mimetype": "text/x-python",
   "name": "python",
   "nbconvert_exporter": "python",
   "pygments_lexer": "ipython3",
   "version": "3.7.6"
  }
 },
 "nbformat": 4,
 "nbformat_minor": 4
}
