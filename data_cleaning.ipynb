{
 "cells": [
  {
   "cell_type": "code",
   "execution_count": 147,
   "metadata": {},
   "outputs": [],
   "source": [
    "import pandas as pd\n",
    "import warnings\n",
    "warnings.filterwarnings('ignore')\n"
   ]
  },
  {
   "cell_type": "code",
   "execution_count": 148,
   "metadata": {},
   "outputs": [],
   "source": [
    "input_data_df = pd.read_csv(\"input_file.csv\") "
   ]
  },
  {
   "cell_type": "code",
   "execution_count": 149,
   "metadata": {},
   "outputs": [
    {
     "name": "stdout",
     "output_type": "stream",
     "text": [
      "<class 'pandas.core.frame.DataFrame'>\n",
      "RangeIndex: 11229 entries, 0 to 11228\n",
      "Data columns (total 5 columns):\n",
      " #   Column       Non-Null Count  Dtype \n",
      "---  ------       --------------  ----- \n",
      " 0   street       11229 non-null  object\n",
      " 1   state        11220 non-null  object\n",
      " 2   city         11220 non-null  object\n",
      " 3   postcode     11220 non-null  object\n",
      " 4   safety_flag  11229 non-null  bool  \n",
      "dtypes: bool(1), object(4)\n",
      "memory usage: 362.0+ KB\n"
     ]
    }
   ],
   "source": [
    "input_data_df.info()"
   ]
  },
  {
   "cell_type": "code",
   "execution_count": 150,
   "metadata": {},
   "outputs": [
    {
     "name": "stdout",
     "output_type": "stream",
     "text": [
      "10\n"
     ]
    }
   ],
   "source": [
    "print(len(input_data_df) - len(input_data_df.dropna()))"
   ]
  },
  {
   "cell_type": "markdown",
   "metadata": {},
   "source": [
    "Here we can see there are 3 columns with null values i.e state, street, city\n",
    "We have to decide weather to drop these rows or fill them with manufactured data such as (most occuring object, min-max)\n",
    "As the number of Null Rows are 10 I think its safe to drop these\n",
    "So we will drop these 10 rows"
   ]
  },
  {
   "cell_type": "code",
   "execution_count": 151,
   "metadata": {},
   "outputs": [],
   "source": [
    "final_df = input_data_df.dropna()\n",
    "final_df['post_code_extension'] = 'Not Available'"
   ]
  },
  {
   "cell_type": "markdown",
   "metadata": {},
   "source": [
    "## DATA CLEANING"
   ]
  },
  {
   "cell_type": "markdown",
   "metadata": {},
   "source": [
    "Checking for blank spaces in front and end for all columns to maintain consistency"
   ]
  },
  {
   "cell_type": "code",
   "execution_count": 152,
   "metadata": {},
   "outputs": [],
   "source": [
    "final_df.loc.__setitem__((slice(None), ('street')), final_df['street'].str.strip()) #Street\n",
    "final_df.loc.__setitem__((slice(None), ('state')), final_df['state'].str.strip()) #State\n",
    "final_df.loc.__setitem__((slice(None), ('city')), final_df['city'].str.strip()) #City\n",
    "final_df.loc.__setitem__((slice(None), ('postcode')), final_df['postcode'].str.strip()) #postcode"
   ]
  },
  {
   "cell_type": "code",
   "execution_count": 153,
   "metadata": {},
   "outputs": [
    {
     "data": {
      "text/html": [
       "<div>\n",
       "<style scoped>\n",
       "    .dataframe tbody tr th:only-of-type {\n",
       "        vertical-align: middle;\n",
       "    }\n",
       "\n",
       "    .dataframe tbody tr th {\n",
       "        vertical-align: top;\n",
       "    }\n",
       "\n",
       "    .dataframe thead th {\n",
       "        text-align: right;\n",
       "    }\n",
       "</style>\n",
       "<table border=\"1\" class=\"dataframe\">\n",
       "  <thead>\n",
       "    <tr style=\"text-align: right;\">\n",
       "      <th></th>\n",
       "      <th>street</th>\n",
       "      <th>state</th>\n",
       "      <th>city</th>\n",
       "      <th>postcode</th>\n",
       "      <th>safety_flag</th>\n",
       "      <th>post_code_extension</th>\n",
       "    </tr>\n",
       "  </thead>\n",
       "  <tbody>\n",
       "    <tr>\n",
       "      <th>0</th>\n",
       "      <td>3160 Otto Dr</td>\n",
       "      <td>FL</td>\n",
       "      <td>Lakeland</td>\n",
       "      <td>33812-5237</td>\n",
       "      <td>False</td>\n",
       "      <td>Not Available</td>\n",
       "    </tr>\n",
       "    <tr>\n",
       "      <th>1</th>\n",
       "      <td>940 Tulip Dr</td>\n",
       "      <td>IN</td>\n",
       "      <td>Indianapolis</td>\n",
       "      <td>46227</td>\n",
       "      <td>False</td>\n",
       "      <td>Not Available</td>\n",
       "    </tr>\n",
       "    <tr>\n",
       "      <th>2</th>\n",
       "      <td>68 Rocky Top Rd</td>\n",
       "      <td>VA</td>\n",
       "      <td>Troutville</td>\n",
       "      <td>24175-6054</td>\n",
       "      <td>False</td>\n",
       "      <td>Not Available</td>\n",
       "    </tr>\n",
       "    <tr>\n",
       "      <th>3</th>\n",
       "      <td>3330 Taylor Blair Rd</td>\n",
       "      <td>OH</td>\n",
       "      <td>West Jefferson</td>\n",
       "      <td>43162</td>\n",
       "      <td>False</td>\n",
       "      <td>Not Available</td>\n",
       "    </tr>\n",
       "    <tr>\n",
       "      <th>4</th>\n",
       "      <td>4254 Eagle Landing Parkway</td>\n",
       "      <td>FL</td>\n",
       "      <td>Orange Park</td>\n",
       "      <td>32065</td>\n",
       "      <td>False</td>\n",
       "      <td>Not Available</td>\n",
       "    </tr>\n",
       "  </tbody>\n",
       "</table>\n",
       "</div>"
      ],
      "text/plain": [
       "                       street state            city    postcode  safety_flag  \\\n",
       "0                3160 Otto Dr    FL        Lakeland  33812-5237        False   \n",
       "1                940 Tulip Dr    IN    Indianapolis       46227        False   \n",
       "2             68 Rocky Top Rd    VA      Troutville  24175-6054        False   \n",
       "3        3330 Taylor Blair Rd    OH  West Jefferson       43162        False   \n",
       "4  4254 Eagle Landing Parkway    FL     Orange Park       32065        False   \n",
       "\n",
       "  post_code_extension  \n",
       "0       Not Available  \n",
       "1       Not Available  \n",
       "2       Not Available  \n",
       "3       Not Available  \n",
       "4       Not Available  "
      ]
     },
     "execution_count": 153,
     "metadata": {},
     "output_type": "execute_result"
    }
   ],
   "source": [
    "final_df.head()"
   ]
  },
  {
   "cell_type": "markdown",
   "metadata": {},
   "source": [
    "Here we see one extra number seperated by '-' in postcode we can seperate that to maintain consitency between the column"
   ]
  },
  {
   "cell_type": "code",
   "execution_count": 154,
   "metadata": {},
   "outputs": [],
   "source": [
    "def seperate_postcode(postcode):\n",
    "    \"\"\"\n",
    "    This functions takes in a post code in form \"XXXX\" or \"XXXX-YYYY\" and gives out just XXXX\n",
    "    \"\"\"\n",
    "    split_list = str(postcode).split(sep='-')\n",
    "    index = final_df[final_df['postcode'] == postcode].index\n",
    "    if(len(split_list)>1):\n",
    "        final_df.loc[index, 'post_code_extension'] = str(split_list[1])\n",
    "    return str(split_list[0])"
   ]
  },
  {
   "cell_type": "code",
   "execution_count": 155,
   "metadata": {},
   "outputs": [],
   "source": [
    "# apply function sperate_postcode to complete column\n",
    "mask = final_df['postcode'].apply(seperate_postcode)\n",
    "final_df.loc.__setitem__((slice(None), ('postcode')), mask)"
   ]
  },
  {
   "cell_type": "code",
   "execution_count": 156,
   "metadata": {},
   "outputs": [
    {
     "data": {
      "text/html": [
       "<div>\n",
       "<style scoped>\n",
       "    .dataframe tbody tr th:only-of-type {\n",
       "        vertical-align: middle;\n",
       "    }\n",
       "\n",
       "    .dataframe tbody tr th {\n",
       "        vertical-align: top;\n",
       "    }\n",
       "\n",
       "    .dataframe thead th {\n",
       "        text-align: right;\n",
       "    }\n",
       "</style>\n",
       "<table border=\"1\" class=\"dataframe\">\n",
       "  <thead>\n",
       "    <tr style=\"text-align: right;\">\n",
       "      <th></th>\n",
       "      <th>street</th>\n",
       "      <th>state</th>\n",
       "      <th>city</th>\n",
       "      <th>postcode</th>\n",
       "      <th>safety_flag</th>\n",
       "      <th>post_code_extension</th>\n",
       "    </tr>\n",
       "  </thead>\n",
       "  <tbody>\n",
       "    <tr>\n",
       "      <th>0</th>\n",
       "      <td>3160 Otto Dr</td>\n",
       "      <td>FL</td>\n",
       "      <td>Lakeland</td>\n",
       "      <td>33812</td>\n",
       "      <td>False</td>\n",
       "      <td>5237</td>\n",
       "    </tr>\n",
       "    <tr>\n",
       "      <th>1</th>\n",
       "      <td>940 Tulip Dr</td>\n",
       "      <td>IN</td>\n",
       "      <td>Indianapolis</td>\n",
       "      <td>46227</td>\n",
       "      <td>False</td>\n",
       "      <td>Not Available</td>\n",
       "    </tr>\n",
       "    <tr>\n",
       "      <th>2</th>\n",
       "      <td>68 Rocky Top Rd</td>\n",
       "      <td>VA</td>\n",
       "      <td>Troutville</td>\n",
       "      <td>24175</td>\n",
       "      <td>False</td>\n",
       "      <td>6054</td>\n",
       "    </tr>\n",
       "    <tr>\n",
       "      <th>3</th>\n",
       "      <td>3330 Taylor Blair Rd</td>\n",
       "      <td>OH</td>\n",
       "      <td>West Jefferson</td>\n",
       "      <td>43162</td>\n",
       "      <td>False</td>\n",
       "      <td>Not Available</td>\n",
       "    </tr>\n",
       "    <tr>\n",
       "      <th>4</th>\n",
       "      <td>4254 Eagle Landing Parkway</td>\n",
       "      <td>FL</td>\n",
       "      <td>Orange Park</td>\n",
       "      <td>32065</td>\n",
       "      <td>False</td>\n",
       "      <td>Not Available</td>\n",
       "    </tr>\n",
       "    <tr>\n",
       "      <th>...</th>\n",
       "      <td>...</td>\n",
       "      <td>...</td>\n",
       "      <td>...</td>\n",
       "      <td>...</td>\n",
       "      <td>...</td>\n",
       "      <td>...</td>\n",
       "    </tr>\n",
       "    <tr>\n",
       "      <th>11224</th>\n",
       "      <td>3830 Valley Centre Dr Ste 705 PMB 141</td>\n",
       "      <td>CA</td>\n",
       "      <td>San Diego</td>\n",
       "      <td>92130</td>\n",
       "      <td>False</td>\n",
       "      <td>Not Available</td>\n",
       "    </tr>\n",
       "    <tr>\n",
       "      <th>11225</th>\n",
       "      <td>41964 Main St. Suite A</td>\n",
       "      <td>CA</td>\n",
       "      <td>Temecula</td>\n",
       "      <td>92590</td>\n",
       "      <td>True</td>\n",
       "      <td>Not Available</td>\n",
       "    </tr>\n",
       "    <tr>\n",
       "      <th>11226</th>\n",
       "      <td>13217 Jamboree Rd STE 111</td>\n",
       "      <td>CA</td>\n",
       "      <td>Tustin</td>\n",
       "      <td>92782</td>\n",
       "      <td>False</td>\n",
       "      <td>Not Available</td>\n",
       "    </tr>\n",
       "    <tr>\n",
       "      <th>11227</th>\n",
       "      <td>19662 Wells Dr</td>\n",
       "      <td>CA</td>\n",
       "      <td>Tarzana</td>\n",
       "      <td>91356</td>\n",
       "      <td>False</td>\n",
       "      <td>Not Available</td>\n",
       "    </tr>\n",
       "    <tr>\n",
       "      <th>11228</th>\n",
       "      <td>90 Glenn Way Ste. 5</td>\n",
       "      <td>CA</td>\n",
       "      <td>San Carlos</td>\n",
       "      <td>94070</td>\n",
       "      <td>True</td>\n",
       "      <td>Not Available</td>\n",
       "    </tr>\n",
       "  </tbody>\n",
       "</table>\n",
       "<p>11219 rows × 6 columns</p>\n",
       "</div>"
      ],
      "text/plain": [
       "                                      street state            city postcode  \\\n",
       "0                               3160 Otto Dr    FL        Lakeland    33812   \n",
       "1                               940 Tulip Dr    IN    Indianapolis    46227   \n",
       "2                            68 Rocky Top Rd    VA      Troutville    24175   \n",
       "3                       3330 Taylor Blair Rd    OH  West Jefferson    43162   \n",
       "4                 4254 Eagle Landing Parkway    FL     Orange Park    32065   \n",
       "...                                      ...   ...             ...      ...   \n",
       "11224  3830 Valley Centre Dr Ste 705 PMB 141    CA       San Diego    92130   \n",
       "11225                 41964 Main St. Suite A    CA        Temecula    92590   \n",
       "11226              13217 Jamboree Rd STE 111    CA          Tustin    92782   \n",
       "11227                         19662 Wells Dr    CA         Tarzana    91356   \n",
       "11228                    90 Glenn Way Ste. 5    CA      San Carlos    94070   \n",
       "\n",
       "       safety_flag post_code_extension  \n",
       "0            False                5237  \n",
       "1            False       Not Available  \n",
       "2            False                6054  \n",
       "3            False       Not Available  \n",
       "4            False       Not Available  \n",
       "...            ...                 ...  \n",
       "11224        False       Not Available  \n",
       "11225         True       Not Available  \n",
       "11226        False       Not Available  \n",
       "11227        False       Not Available  \n",
       "11228         True       Not Available  \n",
       "\n",
       "[11219 rows x 6 columns]"
      ]
     },
     "execution_count": 156,
     "metadata": {},
     "output_type": "execute_result"
    }
   ],
   "source": [
    "final_df"
   ]
  },
  {
   "cell_type": "code",
   "execution_count": 157,
   "metadata": {},
   "outputs": [
    {
     "data": {
      "text/html": [
       "<div>\n",
       "<style scoped>\n",
       "    .dataframe tbody tr th:only-of-type {\n",
       "        vertical-align: middle;\n",
       "    }\n",
       "\n",
       "    .dataframe tbody tr th {\n",
       "        vertical-align: top;\n",
       "    }\n",
       "\n",
       "    .dataframe thead th {\n",
       "        text-align: right;\n",
       "    }\n",
       "</style>\n",
       "<table border=\"1\" class=\"dataframe\">\n",
       "  <thead>\n",
       "    <tr style=\"text-align: right;\">\n",
       "      <th></th>\n",
       "      <th>street</th>\n",
       "      <th>state</th>\n",
       "      <th>city</th>\n",
       "      <th>postcode</th>\n",
       "      <th>safety_flag</th>\n",
       "      <th>post_code_extension</th>\n",
       "    </tr>\n",
       "  </thead>\n",
       "  <tbody>\n",
       "    <tr>\n",
       "      <th>count</th>\n",
       "      <td>11219</td>\n",
       "      <td>11219</td>\n",
       "      <td>11219</td>\n",
       "      <td>11219</td>\n",
       "      <td>11219</td>\n",
       "      <td>11219</td>\n",
       "    </tr>\n",
       "    <tr>\n",
       "      <th>unique</th>\n",
       "      <td>11188</td>\n",
       "      <td>50</td>\n",
       "      <td>4178</td>\n",
       "      <td>6719</td>\n",
       "      <td>2</td>\n",
       "      <td>3495</td>\n",
       "    </tr>\n",
       "    <tr>\n",
       "      <th>top</th>\n",
       "      <td>190 E 98th St</td>\n",
       "      <td>CA</td>\n",
       "      <td>New York</td>\n",
       "      <td>94107</td>\n",
       "      <td>False</td>\n",
       "      <td>Not Available</td>\n",
       "    </tr>\n",
       "    <tr>\n",
       "      <th>freq</th>\n",
       "      <td>4</td>\n",
       "      <td>2149</td>\n",
       "      <td>245</td>\n",
       "      <td>26</td>\n",
       "      <td>10113</td>\n",
       "      <td>6239</td>\n",
       "    </tr>\n",
       "  </tbody>\n",
       "</table>\n",
       "</div>"
      ],
      "text/plain": [
       "               street  state      city postcode safety_flag  \\\n",
       "count           11219  11219     11219    11219       11219   \n",
       "unique          11188     50      4178     6719           2   \n",
       "top     190 E 98th St     CA  New York    94107       False   \n",
       "freq                4   2149       245       26       10113   \n",
       "\n",
       "       post_code_extension  \n",
       "count                11219  \n",
       "unique                3495  \n",
       "top          Not Available  \n",
       "freq                  6239  "
      ]
     },
     "execution_count": 157,
     "metadata": {},
     "output_type": "execute_result"
    }
   ],
   "source": [
    "final_df.describe()"
   ]
  },
  {
   "cell_type": "code",
   "execution_count": 158,
   "metadata": {},
   "outputs": [],
   "source": [
    "values = final_df['street'].value_counts().keys().tolist()\n",
    "counts = final_df['street'].value_counts().tolist()"
   ]
  },
  {
   "cell_type": "code",
   "execution_count": 159,
   "metadata": {},
   "outputs": [],
   "source": [
    "street_to_fix = []\n",
    "for it in range(len(counts)):\n",
    "    if(counts[it] > 1):\n",
    "        street_to_fix.append(values[it])"
   ]
  },
  {
   "cell_type": "code",
   "execution_count": 160,
   "metadata": {},
   "outputs": [
    {
     "data": {
      "text/plain": [
       "29"
      ]
     },
     "execution_count": 160,
     "metadata": {},
     "output_type": "execute_result"
    }
   ],
   "source": [
    "len(street_to_fix)"
   ]
  },
  {
   "cell_type": "markdown",
   "metadata": {},
   "source": [
    "Here we see 29 Streets name are repeted more than once we need to make each entry atomic for better patterns"
   ]
  },
  {
   "cell_type": "code",
   "execution_count": 161,
   "metadata": {},
   "outputs": [],
   "source": [
    "def count_frequency(street_df):\n",
    "    \"\"\"\n",
    "    This function counts the number of True and False and assign the max value to the final row.\n",
    "    In case of equal count True is assigned by default. So safety_flag threshold set to >=50%\n",
    "    \"\"\"\n",
    "    true_count = len(street_df[street_df['safety_flag'] == True])\n",
    "    false_count = len(street_df[street_df['safety_flag'] == False])\n",
    "    if(true_count < false_count):\n",
    "        return False\n",
    "    else:\n",
    "        return True"
   ]
  },
  {
   "cell_type": "code",
   "execution_count": 162,
   "metadata": {},
   "outputs": [],
   "source": [
    "def fix_streets(street_name):\n",
    "    street_df = final_df[final_df['street'] == street_name]\n",
    "    val = count_frequency(street_df)\n",
    "    index_names = final_df[ final_df['street'] == street_name].index\n",
    "    one_index = index_names[0]\n",
    "    index_names = index_names[1:]\n",
    "    # assign the final saftey_flag to the one remaining row\n",
    "    final_df.loc[index_names, 'safety_flag'] = val\n",
    "    # drop all the duplicate street except one\n",
    "    final_df.drop(index_names, inplace = True) "
   ]
  },
  {
   "cell_type": "code",
   "execution_count": 163,
   "metadata": {},
   "outputs": [],
   "source": [
    "for street in street_to_fix:\n",
    "    fix_streets(street)"
   ]
  },
  {
   "cell_type": "code",
   "execution_count": 164,
   "metadata": {},
   "outputs": [
    {
     "data": {
      "text/html": [
       "<div>\n",
       "<style scoped>\n",
       "    .dataframe tbody tr th:only-of-type {\n",
       "        vertical-align: middle;\n",
       "    }\n",
       "\n",
       "    .dataframe tbody tr th {\n",
       "        vertical-align: top;\n",
       "    }\n",
       "\n",
       "    .dataframe thead th {\n",
       "        text-align: right;\n",
       "    }\n",
       "</style>\n",
       "<table border=\"1\" class=\"dataframe\">\n",
       "  <thead>\n",
       "    <tr style=\"text-align: right;\">\n",
       "      <th></th>\n",
       "      <th>street</th>\n",
       "      <th>state</th>\n",
       "      <th>city</th>\n",
       "      <th>postcode</th>\n",
       "      <th>safety_flag</th>\n",
       "      <th>post_code_extension</th>\n",
       "    </tr>\n",
       "  </thead>\n",
       "  <tbody>\n",
       "    <tr>\n",
       "      <th>0</th>\n",
       "      <td>3160 Otto Dr</td>\n",
       "      <td>FL</td>\n",
       "      <td>Lakeland</td>\n",
       "      <td>33812</td>\n",
       "      <td>False</td>\n",
       "      <td>5237</td>\n",
       "    </tr>\n",
       "    <tr>\n",
       "      <th>1</th>\n",
       "      <td>940 Tulip Dr</td>\n",
       "      <td>IN</td>\n",
       "      <td>Indianapolis</td>\n",
       "      <td>46227</td>\n",
       "      <td>False</td>\n",
       "      <td>Not Available</td>\n",
       "    </tr>\n",
       "    <tr>\n",
       "      <th>2</th>\n",
       "      <td>68 Rocky Top Rd</td>\n",
       "      <td>VA</td>\n",
       "      <td>Troutville</td>\n",
       "      <td>24175</td>\n",
       "      <td>False</td>\n",
       "      <td>6054</td>\n",
       "    </tr>\n",
       "    <tr>\n",
       "      <th>3</th>\n",
       "      <td>3330 Taylor Blair Rd</td>\n",
       "      <td>OH</td>\n",
       "      <td>West Jefferson</td>\n",
       "      <td>43162</td>\n",
       "      <td>False</td>\n",
       "      <td>Not Available</td>\n",
       "    </tr>\n",
       "    <tr>\n",
       "      <th>4</th>\n",
       "      <td>4254 Eagle Landing Parkway</td>\n",
       "      <td>FL</td>\n",
       "      <td>Orange Park</td>\n",
       "      <td>32065</td>\n",
       "      <td>False</td>\n",
       "      <td>Not Available</td>\n",
       "    </tr>\n",
       "    <tr>\n",
       "      <th>...</th>\n",
       "      <td>...</td>\n",
       "      <td>...</td>\n",
       "      <td>...</td>\n",
       "      <td>...</td>\n",
       "      <td>...</td>\n",
       "      <td>...</td>\n",
       "    </tr>\n",
       "    <tr>\n",
       "      <th>11224</th>\n",
       "      <td>3830 Valley Centre Dr Ste 705 PMB 141</td>\n",
       "      <td>CA</td>\n",
       "      <td>San Diego</td>\n",
       "      <td>92130</td>\n",
       "      <td>False</td>\n",
       "      <td>Not Available</td>\n",
       "    </tr>\n",
       "    <tr>\n",
       "      <th>11225</th>\n",
       "      <td>41964 Main St. Suite A</td>\n",
       "      <td>CA</td>\n",
       "      <td>Temecula</td>\n",
       "      <td>92590</td>\n",
       "      <td>True</td>\n",
       "      <td>Not Available</td>\n",
       "    </tr>\n",
       "    <tr>\n",
       "      <th>11226</th>\n",
       "      <td>13217 Jamboree Rd STE 111</td>\n",
       "      <td>CA</td>\n",
       "      <td>Tustin</td>\n",
       "      <td>92782</td>\n",
       "      <td>False</td>\n",
       "      <td>Not Available</td>\n",
       "    </tr>\n",
       "    <tr>\n",
       "      <th>11227</th>\n",
       "      <td>19662 Wells Dr</td>\n",
       "      <td>CA</td>\n",
       "      <td>Tarzana</td>\n",
       "      <td>91356</td>\n",
       "      <td>False</td>\n",
       "      <td>Not Available</td>\n",
       "    </tr>\n",
       "    <tr>\n",
       "      <th>11228</th>\n",
       "      <td>90 Glenn Way Ste. 5</td>\n",
       "      <td>CA</td>\n",
       "      <td>San Carlos</td>\n",
       "      <td>94070</td>\n",
       "      <td>True</td>\n",
       "      <td>Not Available</td>\n",
       "    </tr>\n",
       "  </tbody>\n",
       "</table>\n",
       "<p>11188 rows × 6 columns</p>\n",
       "</div>"
      ],
      "text/plain": [
       "                                      street state            city postcode  \\\n",
       "0                               3160 Otto Dr    FL        Lakeland    33812   \n",
       "1                               940 Tulip Dr    IN    Indianapolis    46227   \n",
       "2                            68 Rocky Top Rd    VA      Troutville    24175   \n",
       "3                       3330 Taylor Blair Rd    OH  West Jefferson    43162   \n",
       "4                 4254 Eagle Landing Parkway    FL     Orange Park    32065   \n",
       "...                                      ...   ...             ...      ...   \n",
       "11224  3830 Valley Centre Dr Ste 705 PMB 141    CA       San Diego    92130   \n",
       "11225                 41964 Main St. Suite A    CA        Temecula    92590   \n",
       "11226              13217 Jamboree Rd STE 111    CA          Tustin    92782   \n",
       "11227                         19662 Wells Dr    CA         Tarzana    91356   \n",
       "11228                    90 Glenn Way Ste. 5    CA      San Carlos    94070   \n",
       "\n",
       "       safety_flag post_code_extension  \n",
       "0            False                5237  \n",
       "1            False       Not Available  \n",
       "2            False                6054  \n",
       "3            False       Not Available  \n",
       "4            False       Not Available  \n",
       "...            ...                 ...  \n",
       "11224        False       Not Available  \n",
       "11225         True       Not Available  \n",
       "11226        False       Not Available  \n",
       "11227        False       Not Available  \n",
       "11228         True       Not Available  \n",
       "\n",
       "[11188 rows x 6 columns]"
      ]
     },
     "execution_count": 164,
     "metadata": {},
     "output_type": "execute_result"
    }
   ],
   "source": [
    "final_df"
   ]
  },
  {
   "cell_type": "markdown",
   "metadata": {},
   "source": [
    "As we see here the data size is decreased from 11219 to 11188"
   ]
  },
  {
   "cell_type": "markdown",
   "metadata": {},
   "source": [
    "The Data is formated properly now its time to check some visualization to get a clear insight from this data"
   ]
  },
  {
   "cell_type": "markdown",
   "metadata": {},
   "source": [
    "The Dataset contains mainly 5 columns which shows the safety_flag for a given location. Location is divided into 4 columns state->city->pincode->street which forms the complete address.\n",
    "\n",
    "Data cleaning tasks done on the initial data :\n",
    "\n",
    "* strip all the values so that no leading or trailing space follows\n",
    "* converted pincode into a 5 digit fix format by removing the extra part given\n",
    "* some streets were repeated with different safety_flag values so fixed that to have the maximum occuring value of safety_flag in atomic row"
   ]
  },
  {
   "cell_type": "markdown",
   "metadata": {},
   "source": [
    "## Data Viz"
   ]
  },
  {
   "cell_type": "code",
   "execution_count": 165,
   "metadata": {},
   "outputs": [],
   "source": [
    "from matplotlib import pyplot as plt\n",
    "plt.rcParams[\"figure.figsize\"] = (20,10)"
   ]
  },
  {
   "cell_type": "markdown",
   "metadata": {},
   "source": [
    "Lets see the state with the max safty_flag set to True"
   ]
  },
  {
   "cell_type": "code",
   "execution_count": 166,
   "metadata": {},
   "outputs": [],
   "source": [
    "def count_true_per_state(state):\n",
    "    state_rows = final_df[final_df['state'] == state]\n",
    "    return state_rows[state_rows['safety_flag'] == True]['safety_flag'].count()"
   ]
  },
  {
   "cell_type": "code",
   "execution_count": 167,
   "metadata": {},
   "outputs": [
    {
     "data": {
      "image/png": "[encoded data removed]",
      "text/plain": [
       "<Figure size 1440x720 with 1 Axes>"
      ]
     },
     "metadata": {
      "needs_background": "light"
     },
     "output_type": "display_data"
    }
   ],
   "source": [
    "# States\n",
    "states = final_df['state'].unique()\n",
    "x = states\n",
    "# True Count\n",
    "y = []\n",
    "for state in states:\n",
    "    y.append(count_true_per_state(state))\n",
    "# Function to plot  \n",
    "plt.bar(x, y)  \n",
    "# Function to show the plot  \n",
    "plt.show()"
   ]
  },
  {
   "cell_type": "markdown",
   "metadata": {},
   "source": [
    "Here we can see CA and NY has maximum number of safty_flag as True"
   ]
  },
  {
   "cell_type": "code",
   "execution_count": 168,
   "metadata": {},
   "outputs": [],
   "source": [
    "total_states = final_df[final_df['safety_flag'] == True]['safety_flag'].count()"
   ]
  },
  {
   "cell_type": "code",
   "execution_count": 169,
   "metadata": {},
   "outputs": [
    {
     "data": {
      "text/plain": [
       "1094"
      ]
     },
     "execution_count": 169,
     "metadata": {},
     "output_type": "execute_result"
    }
   ],
   "source": [
    "total_states"
   ]
  },
  {
   "cell_type": "code",
   "execution_count": 170,
   "metadata": {},
   "outputs": [],
   "source": [
    "final_df.rename(columns={'postcode': 'post_code'}, inplace=True)"
   ]
  },
  {
   "cell_type": "code",
   "execution_count": 171,
   "metadata": {},
   "outputs": [],
   "source": [
    "final_df = final_df.reset_index(drop=True)\n",
    "final_df['country'] = 'US'"
   ]
  },
  {
   "cell_type": "code",
   "execution_count": 172,
   "metadata": {},
   "outputs": [],
   "source": [
    "final_df.to_csv(\"final_input_file.csv\", index=False)"
   ]
  },
  {
   "cell_type": "markdown",
   "metadata": {},
   "source": [
    "Also out of 11188 rows only 1094 rows have value of safety_flag as True"
   ]
  },
  {
   "cell_type": "markdown",
   "metadata": {},
   "source": [
    "## VERDICT"
   ]
  },
  {
   "cell_type": "markdown",
   "metadata": {},
   "source": [
    "The Data supplied here is insufficient to make any marketing suggestions however we can find out the most safe streets with the given data.\n",
    "\n",
    "We need to pull more data into this to make valid predictions\n"
   ]
  }
 ],
 "metadata": {
  "kernelspec": {
   "display_name": "Python 3",
   "language": "python",
   "name": "python3"
  },
  "language_info": {
   "codemirror_mode": {
    "name": "ipython",
    "version": 3
   },
   "file_extension": ".py",
   "mimetype": "text/x-python",
   "name": "python",
   "nbconvert_exporter": "python",
   "pygments_lexer": "ipython3",
   "version": "3.7.6"
  }
 },
 "nbformat": 4,
 "nbformat_minor": 4
}
