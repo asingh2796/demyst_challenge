{
 "cells": [
  {
   "cell_type": "markdown",
   "metadata": {},
   "source": [
    "## PART 2"
   ]
  },
  {
   "cell_type": "code",
   "execution_count": 5,
   "metadata": {},
   "outputs": [],
   "source": [
    "from demyst.analytics import Analytics\n",
    "import pandas as pd\n",
    "analytics = Analytics(key=\"39efd730ccd6d4fa9c2a69b3f82086d6\")"
   ]
  },
  {
   "cell_type": "code",
   "execution_count": 6,
   "metadata": {},
   "outputs": [],
   "source": [
    "input_df = pd.read_csv(\"../Task1/final_cleaned_input_file.csv\")"
   ]
  },
  {
   "cell_type": "code",
   "execution_count": 7,
   "metadata": {},
   "outputs": [],
   "source": [
    "report = analytics.validate(input_df, notebook=True)"
   ]
  },
  {
   "cell_type": "code",
   "execution_count": 8,
   "metadata": {},
   "outputs": [
    {
     "data": {
      "text/html": [
       "<table><tr><th>Column</th><th>Status</th><th>Description</th></tr><tr><th><a href=\"https://demyst.com/docs/demyst-live-demyst-types/#street\" target=\"_blank\">street</a></th><td style=\"background-color: lightgreen\"><nobr>All Valid</nobr></td><td style=\"text-align: left\">All values in this column are good to go.</td></tr><tr><th><a href=\"https://demyst.com/docs/demyst-live-demyst-types/#state\" target=\"_blank\">state</a></th><td style=\"background-color: lightgreen\"><nobr>All Valid</nobr></td><td style=\"text-align: left\">All values in this column are good to go.</td></tr><tr><th><a href=\"https://demyst.com/docs/demyst-live-demyst-types/#city\" target=\"_blank\">city</a></th><td style=\"background-color: lightgreen\"><nobr>All Valid</nobr></td><td style=\"text-align: left\">All values in this column are good to go.</td></tr><tr><th>post_code</th><td style=\"background-color: lightpink\"><nobr>Not a String Column</nobr></td><td style=\"text-align: left\">You must convert this column to string type.</td></tr><tr><th>safety_flag</th><td style=\"background-color: lightpink\"><nobr>Unrecognized Column Name</nobr></td><td style=\"text-align: left\">This column name is not supported. <a href=\"https://demyst.com/docs/demyst-live-demyst-types/\" target=\"_blank\">Click here for a list of all supported column names.</a></td></tr><tr><th>post_code_extension</th><td style=\"background-color: lightgreen\"><nobr>All Valid</nobr></td><td style=\"text-align: left\">All values in this column are good to go.</td></tr><tr><th><a href=\"https://demyst.com/docs/demyst-live-demyst-types/#country\" target=\"_blank\">country</a></th><td style=\"background-color: lightgreen\"><nobr>All Valid</nobr></td><td style=\"text-align: left\">All values in this column are good to go.</td></tr></table>"
      ],
      "text/plain": [
       "<demyst.analytics.analytics.Validation at 0x2994c757c88>"
      ]
     },
     "execution_count": 8,
     "metadata": {},
     "output_type": "execute_result"
    }
   ],
   "source": [
    "report"
   ]
  },
  {
   "cell_type": "code",
   "execution_count": 9,
   "metadata": {},
   "outputs": [
    {
     "data": {
      "text/html": [
       "<div style=\"\"><div style=\"pading:10px;\"><div style=\"padding:5px\"><h1><img height=\"30\" width=\"30\" src=\"https://demyst-public.s3.amazonaws.com/icons/aegean_data_source/496/icon/L2_Logo.png\" style=\"display:inline-block\" /> L2</h1><pre style=\"\">hosted_l2_political</pre><p><em>L2's national voter file is the standard by which voter data are judged. For nearly 50 years L2 has provided the highest quality, most up-to-date and robust file of U.S. voters in existence. L2's commitment to quality is displayed in our 53 point hygiene check prior to release.  Presidential Campaigns, national advocacy organizations, and tens of thousands of political groups and down-ballot campaigns rely on L2's quality and enhancements for their voter contact, polling, and analytics.  Hundreds of fields of consumer, donor, demographic, and modeled issue data provide additional layers of depth to L2's best-in-class national voter database.</em></p></div><div style=\"padding: 5px;\"><table><tr><th> </th><th>post_code_extension</th><th>country</th><th>post_code</th></tr><tr><td>Option 1</td><td><span style=\"font-size: 20px;\">☒</span></td><td><span style=\"font-size: 20px;\">☒</span></td><td><span style=\"font-size: 20px;\">☒</span></td></tr></table></div></div></div><div style=\"\"><div style=\"pading:10px;\"><div style=\"padding:5px\"><h1><img height=\"30\" width=\"30\" src=\"https://demyst-public.s3.amazonaws.com/icons/aegean_data_source/496/icon/L2_Logo.png\" style=\"display:inline-block\" /> L2</h1><pre style=\"\">hosted_l2_commercial</pre><p><em>The 245 million record L2 National Consumer file is quickly becoming an industry-standard utilized by the biggest players in the world of analytics and modeling, research, direct consumer contact, and even identity resolution.  Over 450 fields of known household and individual demographic, purchase, hobby and interest data are paired with modeled behavioral information to create this robust file. For nearly 50 years L2's brand has been synonymous with the national voter file. This consumer database utilizes L2's complex voter file processing and hygiene techniques to produce a best-in-class consumer database.</em></p></div><div style=\"padding: 5px;\"><table><tr><th> </th><th>post_code_extension</th><th>country</th><th>post_code</th></tr><tr><td>Option 1</td><td><span style=\"font-size: 20px;\">☒</span></td><td><span style=\"font-size: 20px;\">☒</span></td><td><span style=\"font-size: 20px;\">☒</span></td></tr></table></div></div></div><div style=\"\"><div style=\"pading:10px;\"><div style=\"padding:5px\"><h1><img height=\"30\" width=\"30\" src=\"https://console.demystdata.com/assets/attom-018667395fd6d2e395ec7079d09434844d7ef98d02dac7c32e8bcb6c326145f1.svg\" style=\"display:inline-block\" /> Attom</h1><pre style=\"\">attomdata_attom_id</pre><p><em>Retrieve Attom's internal reference ID for a property in order to search public property records including real estate data: sale, ownership, tax, and more - for more than 150 million U.S. properties.</em></p></div><div style=\"padding: 5px;\"><table><tr><th> </th><th>state</th><th>city</th><th>post_code</th><th>country</th><th>street</th></tr><tr><td>Option 1</td><td><span style=\"font-size: 20px;\">☒</span></td><td><span style=\"font-size: 20px;\">☒</span></td><td><span style=\"font-size: 20px;\">☒</span></td><td><span style=\"font-size: 20px;\">☒</span></td><td><span style=\"font-size: 20px;\">☒</span></td></tr></table></div></div></div>"
      ],
      "text/plain": [
       "<IPython.core.display.HTML object>"
      ]
     },
     "execution_count": 9,
     "metadata": {},
     "output_type": "execute_result"
    }
   ],
   "source": [
    "analytics.search(input_df, strict=True)"
   ]
  },
  {
   "cell_type": "code",
   "execution_count": null,
   "metadata": {},
   "outputs": [],
   "source": [
    "result = analytics.enrich_and_download(['attomdata_attom_id'], input_df)"
   ]
  },
  {
   "cell_type": "code",
   "execution_count": 10,
   "metadata": {},
   "outputs": [],
   "source": [
    "result = pd.read_csv(\"./outputs/enriched_data.csv\")"
   ]
  },
  {
   "cell_type": "code",
   "execution_count": 11,
   "metadata": {},
   "outputs": [],
   "source": [
    "stats = analytics.report(result)"
   ]
  },
  {
   "cell_type": "code",
   "execution_count": 12,
   "metadata": {},
   "outputs": [
    {
     "data": {
      "text/html": [
       "<div>\n",
       "<style scoped>\n",
       "    .dataframe tbody tr th:only-of-type {\n",
       "        vertical-align: middle;\n",
       "    }\n",
       "\n",
       "    .dataframe tbody tr th {\n",
       "        vertical-align: top;\n",
       "    }\n",
       "\n",
       "    .dataframe thead th {\n",
       "        text-align: right;\n",
       "    }\n",
       "</style>\n",
       "<table border=\"1\" class=\"dataframe\">\n",
       "  <thead>\n",
       "    <tr style=\"text-align: right;\">\n",
       "      <th></th>\n",
       "      <th>product_name</th>\n",
       "      <th>product_match_rate</th>\n",
       "      <th>product_error_rate</th>\n",
       "      <th>attribute_name</th>\n",
       "      <th>attribute_fill_rate</th>\n",
       "      <th>attribute_type</th>\n",
       "      <th>unique_values</th>\n",
       "      <th>most_common_values</th>\n",
       "      <th>cardinality</th>\n",
       "      <th>std</th>\n",
       "      <th>median</th>\n",
       "      <th>mean</th>\n",
       "      <th>max_value</th>\n",
       "      <th>min_value</th>\n",
       "      <th>variance</th>\n",
       "      <th>matches_all</th>\n",
       "    </tr>\n",
       "  </thead>\n",
       "  <tbody>\n",
       "    <tr>\n",
       "      <th>0</th>\n",
       "      <td>attomdata_attom_id</td>\n",
       "      <td>70.19</td>\n",
       "      <td>0.0</td>\n",
       "      <td>attom_id</td>\n",
       "      <td>70.19</td>\n",
       "      <td>float64</td>\n",
       "      <td>7844</td>\n",
       "      <td>{40507414.0: 2, 20512479.0: 2, 216044453.0: 2,...</td>\n",
       "      <td>99.885394</td>\n",
       "      <td>9.250687e+07</td>\n",
       "      <td>150582302.0</td>\n",
       "      <td>1.246462e+08</td>\n",
       "      <td>330028140.0</td>\n",
       "      <td>8770.0</td>\n",
       "      <td>8.557521e+15</td>\n",
       "      <td>7853</td>\n",
       "    </tr>\n",
       "  </tbody>\n",
       "</table>\n",
       "</div>"
      ],
      "text/plain": [
       "         product_name  product_match_rate  product_error_rate attribute_name  \\\n",
       "0  attomdata_attom_id               70.19                 0.0       attom_id   \n",
       "\n",
       "   attribute_fill_rate attribute_type  unique_values  \\\n",
       "0                70.19        float64           7844   \n",
       "\n",
       "                                  most_common_values  cardinality  \\\n",
       "0  {40507414.0: 2, 20512479.0: 2, 216044453.0: 2,...    99.885394   \n",
       "\n",
       "            std       median          mean    max_value  min_value  \\\n",
       "0  9.250687e+07  150582302.0  1.246462e+08  330028140.0     8770.0   \n",
       "\n",
       "       variance  matches_all  \n",
       "0  8.557521e+15         7853  "
      ]
     },
     "execution_count": 12,
     "metadata": {},
     "output_type": "execute_result"
    }
   ],
   "source": [
    "stats"
   ]
  },
  {
   "cell_type": "markdown",
   "metadata": {},
   "source": [
    "## PART 3"
   ]
  },
  {
   "cell_type": "code",
   "execution_count": 13,
   "metadata": {},
   "outputs": [],
   "source": [
    "result.to_csv('./outputs/enriched_data.csv')"
   ]
  },
  {
   "cell_type": "code",
   "execution_count": 14,
   "metadata": {},
   "outputs": [],
   "source": [
    "result.to_json('./outputs/enriched_data.json')"
   ]
  },
  {
   "cell_type": "code",
   "execution_count": 17,
   "metadata": {},
   "outputs": [],
   "source": [
    "result.to_parquet('./outputs/enriched_data.gzip', compression='gzip')"
   ]
  },
  {
   "cell_type": "markdown",
   "metadata": {},
   "source": [
    "USED ONLY ONE SOUCE SO MAKING ZIP OF SINGLE CSV"
   ]
  },
  {
   "cell_type": "code",
   "execution_count": 18,
   "metadata": {},
   "outputs": [],
   "source": [
    "from zipfile import ZipFile"
   ]
  },
  {
   "cell_type": "code",
   "execution_count": 19,
   "metadata": {},
   "outputs": [],
   "source": [
    "zipobj =  ZipFile('./outputs/enriched_data.zip', 'w')"
   ]
  },
  {
   "cell_type": "code",
   "execution_count": 20,
   "metadata": {},
   "outputs": [],
   "source": [
    "zipobj.write('./outputs/enriched_data.csv')"
   ]
  },
  {
   "cell_type": "code",
   "execution_count": 21,
   "metadata": {},
   "outputs": [],
   "source": [
    "zipobj.close()"
   ]
  },
  {
   "cell_type": "code",
   "execution_count": null,
   "metadata": {},
   "outputs": [],
   "source": []
  }
 ],
 "metadata": {
  "kernelspec": {
   "display_name": "Python 3",
   "language": "python",
   "name": "python3"
  },
  "language_info": {
   "codemirror_mode": {
    "name": "ipython",
    "version": 3
   },
   "file_extension": ".py",
   "mimetype": "text/x-python",
   "name": "python",
   "nbconvert_exporter": "python",
   "pygments_lexer": "ipython3",
   "version": "3.7.6"
  }
 },
 "nbformat": 4,
 "nbformat_minor": 4
}
